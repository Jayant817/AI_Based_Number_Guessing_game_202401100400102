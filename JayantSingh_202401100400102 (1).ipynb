{
  "nbformat": 4,
  "nbformat_minor": 0,
  "metadata": {
    "colab": {
      "provenance": []
    },
    "kernelspec": {
      "name": "python3",
      "display_name": "Python 3"
    },
    "language_info": {
      "name": "python"
    }
  },
  "cells": [
    {
      "cell_type": "code",
      "source": [
        "import random\n",
        "\n",
        "def human_guess_number(max_range=100):\n",
        "    \"\"\"\n",
        "    A number guessing game where the human guesses the AI's number.\n",
        "\n",
        "    Args:\n",
        "        max_range: The upper limit of the range (inclusive).\n",
        "\n",
        "    Returns:\n",
        "        None. Prints the number of guesses and the final guess.\n",
        "    \"\"\"\n",
        "\n",
        "    secret_number = random.randint(1, max_range)\n",
        "    guess_count = 0\n",
        "\n",
        "    print(f\"I'm thinking of a number between 1 and {max_range}. Try to guess it!\")\n",
        "\n",
        "    while True:\n",
        "        try:\n",
        "            guess = int(input(\"Enter your guess: \"))\n",
        "            guess_count += 1\n",
        "\n",
        "            if guess < secret_number:\n",
        "                print(\"Higher!\")\n",
        "            elif guess > secret_number:\n",
        "                print(\"Lower!\")\n",
        "            else:\n",
        "                print(f\"Congratulations! You guessed my number ({secret_number}) in {guess_count} guesses.\")\n",
        "                break\n",
        "        except ValueError:\n",
        "            print(\"Invalid input. Please enter a number.\")\n",
        "\n",
        "if __name__ == \"__main__\":\n",
        "    human_guess_number()"
      ],
      "metadata": {
        "colab": {
          "base_uri": "https://localhost:8080/"
        },
        "id": "7PSjZ-FFTLdF",
        "outputId": "aaafd8b2-93ec-4536-f3a3-868e6f61ad9d"
      },
      "execution_count": 4,
      "outputs": [
        {
          "output_type": "stream",
          "name": "stdout",
          "text": [
            "I'm thinking of a number between 1 and 100. Try to guess it!\n",
            "Enter your guess: 34\n",
            "Higher!\n",
            "Enter your guess: 99\n",
            "Lower!\n",
            "Enter your guess: 67\n",
            "Higher!\n",
            "Enter your guess: 78\n",
            "Higher!\n",
            "Enter your guess: 87\n",
            "Higher!\n",
            "Enter your guess: 94\n",
            "Higher!\n",
            "Enter your guess: 96\n",
            "Lower!\n",
            "Enter your guess: 95\n",
            "Congratulations! You guessed my number (95) in 8 guesses.\n"
          ]
        }
      ]
    }
  ]
}